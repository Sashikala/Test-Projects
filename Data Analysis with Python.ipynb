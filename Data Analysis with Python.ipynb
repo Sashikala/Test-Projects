{
 "cells": [
  {
   "cell_type": "markdown",
   "metadata": {},
   "source": [
    "### Introduction to Data Analysis with Python\n",
    "\n",
    "#### Question: \"Can we estimate the price of a used car based on its characteristics?\"\n",
    " - To answer this question, we are going to use various Python packages to perform data cleaning,\n",
    "     - Exploratory Data Analysis (EDA) \n",
    "     - Model development and model evaluation"
   ]
  },
  {
   "cell_type": "code",
   "execution_count": null,
   "metadata": {},
   "outputs": [],
   "source": []
  }
 ],
 "metadata": {
  "kernelspec": {
   "display_name": "Python 3",
   "language": "python",
   "name": "python3"
  },
  "language_info": {
   "codemirror_mode": {
    "name": "ipython",
    "version": 3
   },
   "file_extension": ".py",
   "mimetype": "text/x-python",
   "name": "python",
   "nbconvert_exporter": "python",
   "pygments_lexer": "ipython3",
   "version": "3.8.5"
  }
 },
 "nbformat": 4,
 "nbformat_minor": 4
}
