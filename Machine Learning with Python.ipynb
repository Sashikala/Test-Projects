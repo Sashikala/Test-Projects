{
 "cells": [
  {
   "cell_type": "markdown",
   "metadata": {},
   "source": [
    "## Machine Learning with Python"
   ]
  },
  {
   "cell_type": "markdown",
   "metadata": {},
   "source": [
    "### What do you get from this course?"
   ]
  },
  {
   "cell_type": "markdown",
   "metadata": {},
   "source": [
    "#### Skills:"
   ]
  },
  {
   "cell_type": "markdown",
   "metadata": {},
   "source": [
    " - Regression \n",
    "     - predicting continuous values (house price/CO2 emission\n",
    " - Classification \n",
    "     - predicting the item class/category of a case (cell is benign pr malignant or whether or not a customer will churn)\n",
    " - Clustering \n",
    "     - Finding the structure of data; summarization (similar patients or customer segmentation in banking)\n",
    " - Association \n",
    "     - Associating frequent co-occurring items/events (grocery items that are bought to together by a cust)\n",
    " - Anomaly detection\n",
    "     - Discovering abnormal & unusual cases (credit card fraud detection) \n",
    " - Sequence Mining\n",
    "     - Predicting next event; click-stream(Markov Model, HMM)\n",
    " - Dimension Reduction\n",
    "     - Reducing the size of data (PCA)\n",
    " - Recommendation systems\n",
    "     - Recommending items (Netflix, Amazon, books suggestions)\n",
    " - Scikit Learn\n",
    " - Scipy"
   ]
  },
  {
   "cell_type": "markdown",
   "metadata": {},
   "source": [
    "#### Projects"
   ]
  },
  {
   "cell_type": "markdown",
   "metadata": {},
   "source": [
    " - Cancer detection\n",
    " - Predicting economic trends\n",
    " - Predicting customer churn\n",
    " - Recommendation engines\n",
    " - etc..\n",
    " \n",
    " ##### ... and all these can be added to your CV\n",
    " ##### in addition add bank data, telco to projects"
   ]
  },
  {
   "cell_type": "markdown",
   "metadata": {},
   "source": [
    "### Difference between AI, ML & DL\n",
    "\n",
    " - AI Components (Artificial Inteligence) - tried to make computers intelligent and mimic the cognitive functions of humans - broad scope\n",
    "     - Computer Vision\n",
    "     - Language Processing\n",
    "     - Creativity\n",
    "     - etc\n",
    " - Machine Learning (ML) - branch of AI - teach comp from data and solve the same prob in new situation\n",
    "     - Classification\n",
    "     - Clustering\n",
    "     - Neural Network\n",
    "     - etc\n",
    " \n",
    " - Revolution in ML (Machine Learning) - com can learn and make intelligent decisions on their own.\n",
    "     - DL (Deep Learning) - deeper level of automation in comparison with most machine learning algorithms."
   ]
  },
  {
   "cell_type": "markdown",
   "metadata": {},
   "source": [
    "#### Learning Objectives\n",
    "\n",
    "##### In this course you will learn about:\n",
    "\n",
    "   - How Statistical Modeling relates to Machine Learning and do a comparison of each.\n",
    "\n",
    "   - Real-life examples of Machine learning and how it affects society in ways you may not have guessed!\n",
    "   - In the labs: Use Python libraries for Machine Learning, such as scikit-learn.\n",
    "\n",
    "\n",
    "###### Explore many algorithms and models:\n",
    "\n",
    "   - Popular algorithms: Regression, Classification, and Clustering\n",
    "   - Recommender Systems: Content-Based and Collaborative Filtering\n",
    "\n",
    "   - Popular models: Train/Test Split, Gradient Descent, and Mean Squared Error\n",
    "\n",
    "   - Get ready to do more learning than your machine!\n",
    "\n"
   ]
  },
  {
   "cell_type": "markdown",
   "metadata": {},
   "source": [
    "### Module 1: Machine Learning Application"
   ]
  },
  {
   "cell_type": "code",
   "execution_count": 3,
   "metadata": {},
   "outputs": [],
   "source": [
    "#### Python for ML"
   ]
  },
  {
   "cell_type": "code",
   "execution_count": 4,
   "metadata": {},
   "outputs": [],
   "source": [
    "#### NUMPY, SCIPY, MATPLOTLIB, "
   ]
  },
  {
   "cell_type": "code",
   "execution_count": null,
   "metadata": {},
   "outputs": [],
   "source": []
  }
 ],
 "metadata": {
  "kernelspec": {
   "display_name": "Python 3",
   "language": "python",
   "name": "python3"
  },
  "language_info": {
   "codemirror_mode": {
    "name": "ipython",
    "version": 3
   },
   "file_extension": ".py",
   "mimetype": "text/x-python",
   "name": "python",
   "nbconvert_exporter": "python",
   "pygments_lexer": "ipython3",
   "version": "3.8.5"
  }
 },
 "nbformat": 4,
 "nbformat_minor": 4
}
